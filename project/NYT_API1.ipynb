{
 "cells": [
  {
   "cell_type": "code",
   "execution_count": null,
   "id": "a3a1d185-909e-4c90-87eb-b96f15a66796",
   "metadata": {},
   "outputs": [],
   "source": [
    "# fetches dataset that matches keyword in des_facet\n",
    "import requests as r\n",
    "import pandas as pd\n",
    "import seaborn as sns\n",
    "import matplotlib.pyplot as plt\n",
    "import json\n",
    "\n",
    "from config import API_KEY\n",
    "\n",
    "# Define the keyword you want to search for in the des_facet\n",
    "keyword = \"United States Politics and Government\"\n",
    "\n",
    "# Fetch data from the API\n",
    "top_stories = r.get(f\"https://api.nytimes.com/svc/topstories/v2/home.json?api-key={API_KEY}\").json()\n",
    "\n",
    "# Filter articles based on the keyword in the des_facet\n",
    "filtered_articles = [article for article in top_stories['results'] if keyword.lower() in [facet.lower() for facet in article.get('des_facet', [])]]\n",
    "\n",
    "# Print the filtered articles\n",
    "print(json.dumps(filtered_articles, indent=4))\n"
   ]
  },
  {
   "cell_type": "code",
   "execution_count": null,
   "id": "aa79f746-4e49-445f-b3cd-32563b8e72d4",
   "metadata": {},
   "outputs": [],
   "source": [
    "import requests as r\n",
    "import pandas as pd\n",
    "import seaborn as sns\n",
    "import matplotlib.pyplot as plt\n",
    "import json\n",
    "\n",
    "from config import API_KEY\n",
    "\n",
    "# Define the keyword you want to search for in the des_facet\n",
    "keyword = \"Terrorism\"\n",
    "\n",
    "# Fetch data from the API\n",
    "top_stories = r.get(f\"https://api.nytimes.com/svc/topstories/v2/home.json?api-key={API_KEY}\").json()\n",
    "\n",
    "# Filter articles based on the keyword in the des_facet\n",
    "filtered_articles = [article for article in top_stories['results'] if keyword.lower() in [facet.lower() for facet in article.get('des_facet', [])]]\n",
    "\n",
    "# Extracting specific columns\n",
    "selected_columns = ['title', 'published_date', 'multimedia', 'des_facet']\n",
    "\n",
    "# Create a DataFrame from the filtered articles\n",
    "df = pd.DataFrame(filtered_articles)\n",
    "\n",
    "# Selecting specific columns\n",
    "df_selected = df[selected_columns]\n",
    "\n",
    "# Print the selected columns\n",
    "print(df_selected)\n"
   ]
  },
  {
   "cell_type": "code",
   "execution_count": 15,
   "id": "1924b4ae-9951-4e65-8c4b-84b0eb8cc0e7",
   "metadata": {},
   "outputs": [
    {
     "name": "stderr",
     "output_type": "stream",
     "text": [
      "C:\\Users\\dbmxg\\AppData\\Local\\Temp\\ipykernel_23980\\1249704101.py:9: FutureWarning: Passing literal json to 'read_json' is deprecated and will be removed in a future version. To read from a literal string, wrap it in a 'StringIO' object.\n",
      "  df = pd.read_json(top_stories_json)\n"
     ]
    }
   ],
   "source": [
    "import pandas as pd\n",
    "import requests\n",
    "\n",
    "# Fetch JSON data from the API\n",
    "response = requests.get(f\"https://api.nytimes.com/svc/topstories/v2/home.json?api-key={API_KEY}\")\n",
    "top_stories_json = response.content.decode()\n",
    "\n",
    "# Convert JSON data to DataFrame\n",
    "df = pd.read_json(top_stories_json)\n",
    "\n",
    "# Write DataFrame to a JSON file\n",
    "df.to_json('top_stories.json', orient='records')\n",
    "\n",
    "\n",
    "# Wrap the JSON string in a StringIO object\n",
    "stringio_obj = StringIO(top_stories_json)\n",
    "\n",
    "# Read JSON data into a DataFrame\n",
    "df = pd.read_json(stringio_obj)\n",
    "\n"
   ]
  },
  {
   "cell_type": "code",
   "execution_count": null,
   "id": "28b6a0ce-f20b-40b6-b31a-292c2ab6f39e",
   "metadata": {},
   "outputs": [],
   "source": [
    "import requests\n",
    "\n",
    "# Make a request to a website\n",
    "response = requests.get(\"https://www.dailykos.com/\")\n",
    "\n",
    "# Access the content as bytes and decode it into a string\n",
    "html_content = response.content.decode()\n",
    "\n",
    "print(html_content)\n"
   ]
  },
  {
   "cell_type": "code",
   "execution_count": null,
   "id": "a8d46808-e8e5-431a-97ba-2cd49779cc2b",
   "metadata": {},
   "outputs": [],
   "source": [
    "# how to write results onto a file\n",
    "import pandas as pd\n",
    "\n",
    "# Example JSON data\n",
    "json_data = [\n",
    "    {\"name\": \"John\", \"age\": 30, \"city\": \"New York\"},\n",
    "    {\"name\": \"Alice\", \"age\": 25, \"city\": \"Los Angeles\"},\n",
    "    {\"name\": \"Bob\", \"age\": 35, \"city\": \"Chicago\"}\n",
    "]\n",
    "\n",
    "# Convert JSON data to DataFrame\n",
    "df = pd.DataFrame(json_data)\n",
    "\n",
    "# Write DataFrame to a JSON file\n",
    "df.to_json('output.json', orient='records')\n",
    "\n",
    "# Write DataFrame to a CSV file\n",
    "df.to_csv('output.csv', index=False)\n",
    "\n"
   ]
  },
  {
   "cell_type": "code",
   "execution_count": null,
   "id": "cd20baa3-72ef-4b5d-af3d-67499ae02537",
   "metadata": {},
   "outputs": [],
   "source": []
  }
 ],
 "metadata": {
  "kernelspec": {
   "display_name": "Python 3 (ipykernel)",
   "language": "python",
   "name": "python3"
  },
  "language_info": {
   "codemirror_mode": {
    "name": "ipython",
    "version": 3
   },
   "file_extension": ".py",
   "mimetype": "text/x-python",
   "name": "python",
   "nbconvert_exporter": "python",
   "pygments_lexer": "ipython3",
   "version": "3.12.1"
  }
 },
 "nbformat": 4,
 "nbformat_minor": 5
}
