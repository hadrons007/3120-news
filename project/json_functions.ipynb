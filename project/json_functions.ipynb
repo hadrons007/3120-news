{
 "cells": [
  {
   "cell_type": "code",
   "execution_count": null,
   "id": "50d036e3-40e9-415f-a8aa-7972b744bea2",
   "metadata": {},
   "outputs": [],
   "source": [
    "import json "
   ]
  },
  {
   "cell_type": "code",
   "execution_count": 1,
   "id": "cbbcf0c5-e560-4df6-8c06-30451a1e6a1f",
   "metadata": {},
   "outputs": [
    {
     "name": "stdout",
     "output_type": "stream",
     "text": [
      "30\n"
     ]
    }
   ],
   "source": [
    "# Convert from JSON to Python:\n",
    "import json\n",
    "\n",
    "# some JSON:\n",
    "x =  '{ \"name\":\"John\", \"age\":30, \"city\":\"New York\"}'\n",
    "\n",
    "# parse x:\n",
    "y = json.loads(x)\n",
    "\n",
    "# the result is a Python dictionary:\n",
    "print(y[\"age\"]) "
   ]
  },
  {
   "cell_type": "code",
   "execution_count": null,
   "id": "1020bc52-69e4-44bf-af0f-39e9f8c4421e",
   "metadata": {},
   "outputs": [],
   "source": [
    "# Convert from Python to JSON:\n",
    "import json\n",
    "\n",
    "# a Python object (dict):\n",
    "x = {\n",
    "  \"name\": \"John\",\n",
    "  \"age\": 30,\n",
    "  \"city\": \"New York\"\n",
    "}\n",
    "\n",
    "# convert into JSON:\n",
    "y = json.dumps(x)\n",
    "\n",
    "# the result is a JSON string:\n",
    "print(y) "
   ]
  },
  {
   "cell_type": "code",
   "execution_count": null,
   "id": "8549aaab-a21a-488c-8557-85bcdc75bd0f",
   "metadata": {},
   "outputs": [],
   "source": [
    "You can convert Python objects of the following types, into JSON strings:\n",
    "\n",
    "    dict\n",
    "    list\n",
    "    tuple\n",
    "    string\n",
    "    int\n",
    "    float\n",
    "    True\n",
    "    False\n",
    "    None\n"
   ]
  },
  {
   "cell_type": "code",
   "execution_count": null,
   "id": "56c61cc1-571a-4088-87c5-d98157a46d2b",
   "metadata": {},
   "outputs": [],
   "source": [
    "# Convert Python objects into JSON strings, and print the values:\n",
    "import json\n",
    "\n",
    "print(json.dumps({\"name\": \"John\", \"age\": 30}))\n",
    "print(json.dumps([\"apple\", \"bananas\"]))\n",
    "print(json.dumps((\"apple\", \"bananas\")))\n",
    "print(json.dumps(\"hello\"))\n",
    "print(json.dumps(42))\n",
    "print(json.dumps(31.76))\n",
    "print(json.dumps(True))\n",
    "print(json.dumps(False))\n",
    "print(json.dumps(None)) "
   ]
  },
  {
   "cell_type": "code",
   "execution_count": 2,
   "id": "c948de44-37ff-4ac1-b563-970c01bfc3db",
   "metadata": {},
   "outputs": [
    {
     "name": "stdout",
     "output_type": "stream",
     "text": [
      "{\n",
      "    \"age\": 30,\n",
      "    \"cars\": [\n",
      "        {\n",
      "            \"model\": \"BMW 230\",\n",
      "            \"mpg\": 27.5\n",
      "        },\n",
      "        {\n",
      "            \"model\": \"Ford Edge\",\n",
      "            \"mpg\": 24.1\n",
      "        }\n",
      "    ],\n",
      "    \"children\": [\n",
      "        \"Ann\",\n",
      "        \"Billy\"\n",
      "    ],\n",
      "    \"divorced\": false,\n",
      "    \"married\": true,\n",
      "    \"name\": \"John\",\n",
      "    \"pets\": null\n",
      "}\n"
     ]
    }
   ],
   "source": [
    "# Convert a Python object containing all the legal data types:\n",
    "import json\n",
    "\n",
    "x = {\n",
    "  \"name\": \"John\",\n",
    "  \"age\": 30,\n",
    "  \"married\": True,\n",
    "  \"divorced\": False,\n",
    "  \"children\": (\"Ann\",\"Billy\"),\n",
    "  \"pets\": None,\n",
    "  \"cars\": [\n",
    "    {\"model\": \"BMW 230\", \"mpg\": 27.5},\n",
    "    {\"model\": \"Ford Edge\", \"mpg\": 24.1}\n",
    "  ]\n",
    "}\n",
    "\n",
    "smith = json.dumps(x, indent=4, sort_keys=True)\n",
    "# smith = json.dumps(x, indent=4, separators=(\". \", \" = \"))\n",
    "# smith = json.dumps(x, indent=4)\n",
    "print(smith)\n"
   ]
  },
  {
   "cell_type": "code",
   "execution_count": null,
   "id": "b3279b35-f2ab-4010-8986-e840e7f734c5",
   "metadata": {},
   "outputs": [],
   "source": [
    "# The example above prints a JSON string, but it is not very easy to read, with no indentations and line breaks.\n",
    "# The json.dumps() method has parameters to make it easier to read the result:\n",
    "json.dumps(x, indent=4)\n",
    "\n",
    "# Use the separators parameter to change the default separator:\n",
    "json.dumps(x, indent=4, separators=(\". \", \" = \"))\n",
    "\n",
    "# Use the sort_keys parameter to specify if the result should be sorted or not:\n",
    "json.dumps(x, indent=4, sort_keys=True)\n",
    "\n",
    "# https://www.w3schools.com/python/python_json.asp\n"
   ]
  },
  {
   "cell_type": "code",
   "execution_count": null,
   "id": "1a2bf0f3-3ac8-4394-b677-3f1d86ddf8de",
   "metadata": {},
   "outputs": [],
   "source": []
  }
 ],
 "metadata": {
  "kernelspec": {
   "display_name": "Python 3 (ipykernel)",
   "language": "python",
   "name": "python3"
  },
  "language_info": {
   "codemirror_mode": {
    "name": "ipython",
    "version": 3
   },
   "file_extension": ".py",
   "mimetype": "text/x-python",
   "name": "python",
   "nbconvert_exporter": "python",
   "pygments_lexer": "ipython3",
   "version": "3.12.1"
  }
 },
 "nbformat": 4,
 "nbformat_minor": 5
}
